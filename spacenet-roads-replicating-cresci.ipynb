{
 "cells": [
  {
   "cell_type": "code",
   "execution_count": 1,
   "metadata": {},
   "outputs": [
    {
     "name": "stdout",
     "output_type": "stream",
     "text": [
      "env: PROJ_LIB=/home/wwymak/anaconda3/envs/solaris/share/proj\n"
     ]
    }
   ],
   "source": [
    "%load_ext autoreload\n",
    "%autoreload 2\n",
    "%env PROJ_LIB=/home/wwymak/anaconda3/envs/solaris/share/proj\n",
    "%matplotlib inline"
   ]
  },
  {
   "cell_type": "code",
   "execution_count": 2,
   "metadata": {},
   "outputs": [
    {
     "name": "stderr",
     "output_type": "stream",
     "text": [
      "WARNING: Logging before flag parsing goes to stderr.\n",
      "W0904 21:34:16.686604 140592901224256 deprecation_wrapper.py:119] From /home/wwymak/anaconda3/envs/solaris2/lib/python3.7/site-packages/solaris/nets/metrics.py:103: The name tf.keras.metrics.cosine_proximity is deprecated. Please use tf.keras.losses.cosine_similarity instead.\n",
      "\n",
      "W0904 21:34:17.041981 140592901224256 deprecation_wrapper.py:119] From /home/wwymak/anaconda3/envs/solaris2/lib/python3.7/site-packages/solaris/nets/_keras_losses.py:104: The name tf.keras.losses.cosine is deprecated. Please use tf.keras.losses.cosine_similarity instead.\n",
      "\n"
     ]
    }
   ],
   "source": [
    "\n",
    "import skimage\n",
    "import geopandas as gpd\n",
    "from matplotlib import pyplot as plt\n",
    "from shapely.ops import cascaded_union\n",
    "import solaris as sol\n",
    "\n",
    "from tqdm import tqdm\n",
    "from skimage.external import tifffile as sktif\n",
    "\n",
    "# import shapely.wkt\n",
    "# import geopandas as gpd\n",
    "import numpy as np\n",
    "import cv2\n",
    "from functools import partial\n",
    "\n",
    "from fastai.imports import *\n",
    "from fastai.vision import *\n",
    "from fastai.metrics import dice\n",
    "from fastai.callbacks import *\n",
    "\n",
    "# from joblib import Parallel, delayed\n",
    "import torch.nn.functional as F\n",
    "import torch\n",
    "import functools, traceback\n",
    "def gpu_mem_restore(func):\n",
    "    \"Reclaim GPU RAM if CUDA out of memory happened, or execution was interrupted\"\n",
    "    @functools.wraps(func)\n",
    "    def wrapper(*args, **kwargs):\n",
    "        try:\n",
    "            return func(*args, **kwargs)\n",
    "        except:\n",
    "            type, val, tb = sys.exc_info()\n",
    "            traceback.clear_frames(tb)\n",
    "            raise type(val).with_traceback(tb) from None\n",
    "    return wrapper\n",
    "\n",
    "os.environ['FASTAI_TB_CLEAR_FRAMES']=\"1\"\n",
    "from importlib import reload"
   ]
  },
  {
   "cell_type": "code",
   "execution_count": null,
   "metadata": {},
   "outputs": [],
   "source": [
    "def train_roads(config, paths, fn_mapping, image_suffix, folds_file_loc,\n",
    "                save_path, log_path, num_channels=3):\n",
    "    #t0 = time.time()\n",
    "    ds = ReadingImageProvider(RawImageType, paths, fn_mapping, \n",
    "                              image_suffix=image_suffix, num_channels=num_channels)\n",
    "    print (\"len ds:\", len(ds))\n",
    "    print (\"folds_file_loc:\", folds_file_loc)\n",
    "    print (\"save_path:\", save_path)\n",
    "    folds = get_csv_folds(folds_file_loc, ds.im_names)\n",
    "    #folds = get_csv_folds('folds4.csv', ds.im_names)\n",
    "    num_workers = 0 if os.name == 'nt' else 2\n",
    "    for fold, (train_idx, val_idx) in enumerate(folds):\n",
    "        if args.fold is not None and int(args.fold) != fold:\n",
    "            continue\n",
    "        print (\"num workers:\", num_workers)\n",
    "        print (\"fold:\", fold)\n",
    "        #print (\"(train_idx, val_idx):\", (train_idx, val_idx))\n",
    "        print (\"len(train_idx):\", len(train_idx))\n",
    "        print (\"len(val_idx):\", len(val_idx))\n",
    "        \n",
    "        if config.num_channels == 3:\n",
    "            transforms = get_flips_colors_augmentation()\n",
    "        else:\n",
    "            # can't do hsv rescaling with multiband imagery, so skip this part\n",
    "            transforms = get_flips_shifts_augmentation()\n",
    "    \n",
    "        train(ds, fold, train_idx, val_idx, config, save_path, log_path,\n",
    "              num_workers=num_workers, transforms=transforms)"
   ]
  }
 ],
 "metadata": {
  "kernelspec": {
   "display_name": "Python (solaris+fastai)",
   "language": "python",
   "name": "solaris2"
  },
  "language_info": {
   "codemirror_mode": {
    "name": "ipython",
    "version": 3
   },
   "file_extension": ".py",
   "mimetype": "text/x-python",
   "name": "python",
   "nbconvert_exporter": "python",
   "pygments_lexer": "ipython3",
   "version": "3.7.3"
  }
 },
 "nbformat": 4,
 "nbformat_minor": 2
}
