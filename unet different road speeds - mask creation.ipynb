{
 "cells": [
  {
   "cell_type": "code",
   "execution_count": 1,
   "metadata": {},
   "outputs": [
    {
     "name": "stdout",
     "output_type": "stream",
     "text": [
      "env: PROJ_LIB=/home/wwymak/anaconda3/envs/solaris/share/proj\n"
     ]
    }
   ],
   "source": [
    "%load_ext autoreload\n",
    "%autoreload 2\n",
    "%env PROJ_LIB=/home/wwymak/anaconda3/envs/solaris/share/proj\n",
    "%matplotlib inline\n",
    "\n",
    "import rasterio\n",
    "from torch.utils.tensorboard import SummaryWriter\n",
    "import skimage\n",
    "import geopandas as gpd\n",
    "from matplotlib import pyplot as plt\n",
    "from shapely.ops import cascaded_union\n",
    "# import solaris as sol\n",
    "\n",
    "from tqdm import tqdm\n",
    "from skimage.external import tifffile as sktif\n",
    "\n",
    "# import shapely.wkt\n",
    "import geopandas as gpd\n",
    "import numpy as np\n",
    "import cv2\n",
    "from functools import partial\n",
    "\n",
    "from fastai.imports import *\n",
    "from fastai.vision import *\n",
    "from fastai.metrics import dice\n",
    "from fastai.callbacks import *\n",
    "\n",
    "from joblib import Parallel, delayed\n",
    "import torch.nn.functional as F\n",
    "import torch\n",
    "import functools, traceback\n",
    "def gpu_mem_restore(func):\n",
    "    \"\"\"Reclaim GPU RAM if CUDA out of memory happened, or execution was interrupted\"\"\"\n",
    "    @functools.wraps(func)\n",
    "    def wrapper(*args, **kwargs):\n",
    "        try:\n",
    "            return func(*args, **kwargs)\n",
    "        except:\n",
    "            type, val, tb = sys.exc_info()\n",
    "            traceback.clear_frames(tb)\n",
    "            raise type(val).with_traceback(tb) from None\n",
    "    return wrapper\n",
    "\n",
    "os.environ['FASTAI_TB_CLEAR_FRAMES']=\"1\"\n",
    "from importlib import reload"
   ]
  },
  {
   "cell_type": "code",
   "execution_count": 3,
   "metadata": {},
   "outputs": [],
   "source": [
    "data_dir = Path(\"/media/wwymak/Storage/spacenet_roads\")\n",
    "mumbai = data_dir/\"AOI_8_Mumbai\"\n",
    "ms_mumbai = mumbai/\"MS\"\n",
    "ps_rgb_mumbai = mumbai/\"PS-RGB\""
   ]
  },
  {
   "cell_type": "code",
   "execution_count": 5,
   "metadata": {},
   "outputs": [
    {
     "data": {
      "text/html": [
       "<div>\n",
       "<style scoped>\n",
       "    .dataframe tbody tr th:only-of-type {\n",
       "        vertical-align: middle;\n",
       "    }\n",
       "\n",
       "    .dataframe tbody tr th {\n",
       "        vertical-align: top;\n",
       "    }\n",
       "\n",
       "    .dataframe thead th {\n",
       "        text-align: right;\n",
       "    }\n",
       "</style>\n",
       "<table border=\"1\" class=\"dataframe\">\n",
       "  <thead>\n",
       "    <tr style=\"text-align: right;\">\n",
       "      <th></th>\n",
       "      <th>OBJECTID</th>\n",
       "      <th>bridge</th>\n",
       "      <th>highway</th>\n",
       "      <th>osm_id</th>\n",
       "      <th>surface</th>\n",
       "      <th>lanes</th>\n",
       "      <th>inferred_speed_mph</th>\n",
       "      <th>inferred_speed_mps</th>\n",
       "      <th>origarea</th>\n",
       "      <th>origlen</th>\n",
       "      <th>partialDec</th>\n",
       "      <th>truncated</th>\n",
       "      <th>geometry</th>\n",
       "    </tr>\n",
       "  </thead>\n",
       "  <tbody>\n",
       "    <tr>\n",
       "      <th>0</th>\n",
       "      <td>1094</td>\n",
       "      <td>None</td>\n",
       "      <td>secondary</td>\n",
       "      <td>683675331.0</td>\n",
       "      <td>paved</td>\n",
       "      <td>2</td>\n",
       "      <td>35.0</td>\n",
       "      <td>15.6464</td>\n",
       "      <td>0.0</td>\n",
       "      <td>0</td>\n",
       "      <td>1</td>\n",
       "      <td>0</td>\n",
       "      <td>LINESTRING (72.85742577561622 19.0243364093124...</td>\n",
       "    </tr>\n",
       "    <tr>\n",
       "      <th>1</th>\n",
       "      <td>1097</td>\n",
       "      <td>None</td>\n",
       "      <td>secondary</td>\n",
       "      <td>683675334.0</td>\n",
       "      <td>paved</td>\n",
       "      <td>4</td>\n",
       "      <td>45.0</td>\n",
       "      <td>20.1168</td>\n",
       "      <td>0.0</td>\n",
       "      <td>0</td>\n",
       "      <td>1</td>\n",
       "      <td>0</td>\n",
       "      <td>LINESTRING (72.85692370000004 19.0254491000000...</td>\n",
       "    </tr>\n",
       "    <tr>\n",
       "      <th>2</th>\n",
       "      <td>1098</td>\n",
       "      <td>None</td>\n",
       "      <td>secondary</td>\n",
       "      <td>683675335.0</td>\n",
       "      <td>paved</td>\n",
       "      <td>2</td>\n",
       "      <td>35.0</td>\n",
       "      <td>15.6464</td>\n",
       "      <td>0.0</td>\n",
       "      <td>0</td>\n",
       "      <td>1</td>\n",
       "      <td>0</td>\n",
       "      <td>LINESTRING (72.85749752242104 19.0248466656394...</td>\n",
       "    </tr>\n",
       "    <tr>\n",
       "      <th>3</th>\n",
       "      <td>1124</td>\n",
       "      <td>None</td>\n",
       "      <td>motorway</td>\n",
       "      <td>683675361.0</td>\n",
       "      <td>paved</td>\n",
       "      <td>2.5</td>\n",
       "      <td>55.0</td>\n",
       "      <td>24.5872</td>\n",
       "      <td>0.0</td>\n",
       "      <td>0</td>\n",
       "      <td>1</td>\n",
       "      <td>0</td>\n",
       "      <td>LINESTRING (72.85645545632443 19.0279899859037...</td>\n",
       "    </tr>\n",
       "    <tr>\n",
       "      <th>4</th>\n",
       "      <td>1126</td>\n",
       "      <td>None</td>\n",
       "      <td>motorway</td>\n",
       "      <td>683675362.0</td>\n",
       "      <td>paved</td>\n",
       "      <td>1.5</td>\n",
       "      <td>55.0</td>\n",
       "      <td>24.5872</td>\n",
       "      <td>0.0</td>\n",
       "      <td>0</td>\n",
       "      <td>1</td>\n",
       "      <td>0</td>\n",
       "      <td>LINESTRING (72.85652687643713 19.0279899859037...</td>\n",
       "    </tr>\n",
       "  </tbody>\n",
       "</table>\n",
       "</div>"
      ],
      "text/plain": [
       "  OBJECTID bridge    highway       osm_id surface lanes  inferred_speed_mph  \\\n",
       "0     1094   None  secondary  683675331.0   paved     2                35.0   \n",
       "1     1097   None  secondary  683675334.0   paved     4                45.0   \n",
       "2     1098   None  secondary  683675335.0   paved     2                35.0   \n",
       "3     1124   None   motorway  683675361.0   paved   2.5                55.0   \n",
       "4     1126   None   motorway  683675362.0   paved   1.5                55.0   \n",
       "\n",
       "   inferred_speed_mps  origarea  origlen  partialDec  truncated  \\\n",
       "0             15.6464       0.0        0           1          0   \n",
       "1             20.1168       0.0        0           1          0   \n",
       "2             15.6464       0.0        0           1          0   \n",
       "3             24.5872       0.0        0           1          0   \n",
       "4             24.5872       0.0        0           1          0   \n",
       "\n",
       "                                            geometry  \n",
       "0  LINESTRING (72.85742577561622 19.0243364093124...  \n",
       "1  LINESTRING (72.85692370000004 19.0254491000000...  \n",
       "2  LINESTRING (72.85749752242104 19.0248466656394...  \n",
       "3  LINESTRING (72.85645545632443 19.0279899859037...  \n",
       "4  LINESTRING (72.85652687643713 19.0279899859037...  "
      ]
     },
     "execution_count": 5,
     "metadata": {},
     "output_type": "execute_result"
    }
   ],
   "source": [
    "img_id = \"chip19\"\n",
    "mask_fname = mumbai / \"geojson_roads_speed\" / f\"SN5_roads_train_AOI_8_Mumbai_geojson_roads_speed_{img_id}.geojson\"\n",
    "# outfile = mask_folder / f\"{img_id}.png\"\n",
    "# road_mask = np.zeros((1300,1300))\n",
    "df = gpd.read_file(mask_fname)\n",
    "df.head()"
   ]
  },
  {
   "cell_type": "code",
   "execution_count": 6,
   "metadata": {},
   "outputs": [
    {
     "data": {
      "text/plain": [
       "<matplotlib.axes._subplots.AxesSubplot at 0x7fa39904c860>"
      ]
     },
     "execution_count": 6,
     "metadata": {},
     "output_type": "execute_result"
    },
    {
     "data": {
      "image/png": "[encoded data removed]",
      "text/plain": [
       "<Figure size 432x288 with 1 Axes>"
      ]
     },
     "metadata": {
      "needs_background": "light"
     },
     "output_type": "display_data"
    }
   ],
   "source": [
    "df.inferred_speed_mph.hist()"
   ]
  },
  {
   "cell_type": "code",
   "execution_count": null,
   "metadata": {},
   "outputs": [],
   "source": [
    "df['speed_cls']"
   ]
  }
 ],
 "metadata": {
  "kernelspec": {
   "display_name": "Python (solaris+fastai)",
   "language": "python",
   "name": "solaris2"
  },
  "language_info": {
   "codemirror_mode": {
    "name": "ipython",
    "version": 3
   },
   "file_extension": ".py",
   "mimetype": "text/x-python",
   "name": "python",
   "nbconvert_exporter": "python",
   "pygments_lexer": "ipython3",
   "version": "3.7.3"
  }
 },
 "nbformat": 4,
 "nbformat_minor": 2
}
